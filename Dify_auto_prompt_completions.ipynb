{
 "cells": [
  {
   "cell_type": "code",
   "execution_count": 1,
   "metadata": {},
   "outputs": [],
   "source": [
    "# Import Package\n",
    "import os as os\n",
    "import time as time\n",
    "import selenium as selenium\n",
    "import random as random\n",
    "import pandas as pd"
   ]
  },
  {
   "cell_type": "code",
   "execution_count": 2,
   "metadata": {},
   "outputs": [],
   "source": [
    "from selenium import webdriver\n",
    "from selenium.webdriver.common.by import By\n",
    "from selenium.webdriver.support.ui import Select\n",
    "from selenium.webdriver.common.keys import Keys"
   ]
  },
  {
   "cell_type": "code",
   "execution_count": 3,
   "metadata": {},
   "outputs": [
    {
     "name": "stderr",
     "output_type": "stream",
     "text": [
      "There was an error managing chromedriver (request or response body error: operation timed out); using driver found in the cache\n"
     ]
    }
   ],
   "source": [
    "# Set Browser Kernel\n",
    "driver = webdriver.Chrome()"
   ]
  },
  {
   "cell_type": "code",
   "execution_count": 4,
   "metadata": {},
   "outputs": [],
   "source": [
    "# Input web page address\n",
    "url = 'https://udify.app/chat/iP0yw8HbPFeD6XzL'\n",
    "driver.get( url )\n",
    "time.sleep( 3 )\n",
    "# driver.close()"
   ]
  },
  {
   "cell_type": "code",
   "execution_count": 5,
   "metadata": {},
   "outputs": [],
   "source": [
    "# Input Prompt\n",
    "def input_prompt():\n",
    "    ## Ergodic file to search 'Prompt + *  .csv'\n",
    "    filename = []\n",
    "    for filenameTem in os.listdir():\n",
    "        if filenameTem.startswith( 'Prompt' ) and filenameTem.endswith( '.csv' ):\n",
    "            filename.append( filenameTem )\n",
    "\n",
    "    promptList = dict()\n",
    "    for i1 in filename:\n",
    "        promptList[ i1.split( '.' )[0] ] = pd.read_csv( i1 )\n",
    "    \n",
    "    return promptList\n",
    "\n",
    "promptList = input_prompt()"
   ]
  },
  {
   "cell_type": "code",
   "execution_count": 6,
   "metadata": {},
   "outputs": [],
   "source": [
    "def game_loop(\n",
    "        languageSet: str \n",
    "):\n",
    "    for i1 in promptList.keys():\n",
    "        # Set OptionList\n",
    "        optionList = {\n",
    "            'language': (\n",
    "                '中文', \n",
    "                'English'\n",
    "            )\n",
    "        }\n",
    "        # Set 'language'\n",
    "        language = driver.find_element(\n",
    "            By.XPATH, \n",
    "            '//div[@class=\"flex mb-3 last-of-type:mb-0 text-sm text-gray-900 false\"]'\n",
    "        )\n",
    "        language.click()\n",
    "\n",
    "        if not languageSet in optionList[ 'language' ]:\n",
    "            ## Set 'Language' by random\n",
    "            XPATHtem = '//div[@title=\"' + optionList['language'][random.randint(0,1)] + '\"]'\n",
    "\n",
    "        else:\n",
    "            ## Set 'language' by User inputing\n",
    "            XPATHtem = '//div[@title=\"' + languageSet + '\"]'\n",
    "            \n",
    "        language = driver.find_element(\n",
    "            By.XPATH,\n",
    "            XPATHtem\n",
    "        )\n",
    "        language.click()\n",
    "        time.sleep( 3 )\n",
    "\n",
    "        # Start Chat\n",
    "        startChat = driver.find_element(\n",
    "            By.XPATH, \n",
    "            '//div[@class=\"btn btn-primary px-4 py-0 h-9 ml-[136px]\"]'\n",
    "        )\n",
    "        startChat.click()\n",
    "        time.sleep( 10 )\n",
    "\n",
    "        for i2 in promptList[ i1 ].loc[ :, 'Prompt' ]:\n",
    "            ## Input Prompt in inputBox and send the message\n",
    "            inputBox = driver.find_element(\n",
    "                By.XPATH, \n",
    "                '//textarea[@style=\"resize: none; height: 34px;\"]'\n",
    "            )\n",
    "            inputBox.send_keys( i2 )\n",
    "            inputBox.send_keys( Keys.RETURN )\n",
    "            time.sleep( 9 )\n",
    "        \n",
    "        # Go back to New Chat\n",
    "        newChat = driver.find_element(\n",
    "            By.XPATH, \n",
    "            '//div[@class=\"btn btn-default justify-start px-3 py-0 w-full h-9 text-sm font-medium text-primary-600\"]'\n",
    "        )\n",
    "        newChat.click()"
   ]
  },
  {
   "cell_type": "code",
   "execution_count": 7,
   "metadata": {},
   "outputs": [],
   "source": [
    "game_loop( '中文' )"
   ]
  }
 ],
 "metadata": {
  "kernelspec": {
   "display_name": "base",
   "language": "python",
   "name": "python3"
  },
  "language_info": {
   "codemirror_mode": {
    "name": "ipython",
    "version": 3
   },
   "file_extension": ".py",
   "mimetype": "text/x-python",
   "name": "python",
   "nbconvert_exporter": "python",
   "pygments_lexer": "ipython3",
   "version": "3.11.7"
  }
 },
 "nbformat": 4,
 "nbformat_minor": 2
}
